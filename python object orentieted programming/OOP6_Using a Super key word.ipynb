{
 "cells": [
  {
   "cell_type": "code",
   "execution_count": 1,
   "id": "7bf6fbdc",
   "metadata": {},
   "outputs": [],
   "source": [
    "class Soccer_men:\n",
    "    name = \"David\"\n",
    "    surname = \"  Beckham\"\n",
    "    \n",
    "    def __init__(self,name,surname):\n",
    "        self.name = name\n",
    "        self.surname = surname\n",
    "        print(name,surname)\n",
    "        \n",
    "    # This will demonstrate function overriding\n",
    "    def info(self):\n",
    "        print(\"This function is from the parent class\")\n",
    "       \n",
    "        "
   ]
  },
  {
   "cell_type": "code",
   "execution_count": null,
   "id": "8a0bbb7c",
   "metadata": {},
   "outputs": [],
   "source": []
  },
  {
   "cell_type": "code",
   "execution_count": 2,
   "id": "f6eaffdf",
   "metadata": {},
   "outputs": [],
   "source": [
    "class Soccer_women(Soccer_men):\n",
    "    def __init__(self):\n",
    "        print(\"Your use credentials are as follows:\")\n",
    "        print(super().__init__(self.name,self.surname))\n",
    "        \n",
    "      # This will demonstrate function overriding \n",
    "      #Note that the same name of the function has been used in the parent class\n",
    "    def info(self):\n",
    "        print(\"This function is from the child class\")"
   ]
  },
  {
   "cell_type": "code",
   "execution_count": 3,
   "id": "d6e22924",
   "metadata": {},
   "outputs": [
    {
     "name": "stdout",
     "output_type": "stream",
     "text": [
      "Your use credentials are as follows:\n",
      "David   Beckham\n",
      "None\n"
     ]
    }
   ],
   "source": [
    "p2_2 = Soccer_women()"
   ]
  },
  {
   "cell_type": "code",
   "execution_count": 4,
   "id": "f0433601",
   "metadata": {},
   "outputs": [
    {
     "name": "stdout",
     "output_type": "stream",
     "text": [
      "Your use credentials are as follows:\n",
      "David   Beckham\n",
      "None\n"
     ]
    }
   ],
   "source": [
    "p2_2.__init__()"
   ]
  },
  {
   "cell_type": "code",
   "execution_count": 5,
   "id": "283c8dfe",
   "metadata": {},
   "outputs": [
    {
     "name": "stdout",
     "output_type": "stream",
     "text": [
      "This function is from the child class\n"
     ]
    }
   ],
   "source": [
    "p2_2.info()"
   ]
  },
  {
   "cell_type": "code",
   "execution_count": null,
   "id": "b24b16b0",
   "metadata": {},
   "outputs": [],
   "source": []
  }
 ],
 "metadata": {
  "kernelspec": {
   "display_name": "Python 3 (ipykernel)",
   "language": "python",
   "name": "python3"
  },
  "language_info": {
   "codemirror_mode": {
    "name": "ipython",
    "version": 3
   },
   "file_extension": ".py",
   "mimetype": "text/x-python",
   "name": "python",
   "nbconvert_exporter": "python",
   "pygments_lexer": "ipython3",
   "version": "3.9.7"
  },
  "toc": {
   "base_numbering": 1,
   "nav_menu": {},
   "number_sections": true,
   "sideBar": true,
   "skip_h1_title": false,
   "title_cell": "Table of Contents",
   "title_sidebar": "Contents",
   "toc_cell": false,
   "toc_position": {},
   "toc_section_display": true,
   "toc_window_display": false
  }
 },
 "nbformat": 4,
 "nbformat_minor": 5
}
